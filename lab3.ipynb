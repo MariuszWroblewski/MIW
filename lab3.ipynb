{
 "cells": [
  {
   "cell_type": "code",
   "execution_count": 1,
   "id": "99c093d2",
   "metadata": {},
   "outputs": [
    {
     "name": "stdout",
     "output_type": "stream",
     "text": [
      "0.022 0.2 -0.333 0.733 -0.378 \n",
      "0.244 -0.2 0.333 -0.933 0.444 \n",
      "-0.056 -0.0 0.333 -0.333 -0.056 \n",
      "0.122 -0.2 -0.333 0.533 0.122 \n",
      "-0.167 0.2 0.0 -0.0 0.033 \n"
     ]
    }
   ],
   "source": [
    "import numpy as np\n",
    "\n",
    "\n",
    "def print_array(A):\n",
    "    for r in A:\n",
    "        for c in r:\n",
    "            print(c, end=\" \")\n",
    "        print()\n",
    "\n",
    "\n",
    "def invert_matrix(A, I):\n",
    "    Ac = A.copy()\n",
    "    Ic = I.copy()\n",
    "    indices = list(range(len(A)))\n",
    "    for i in range(len(A)):\n",
    "        skala = 1.0 / Ac[i][i]\n",
    "        for j in range(len(A)):\n",
    "            Ac[i][j] *= skala\n",
    "            Ic[i][j] *= skala\n",
    "        for k in indices[0:i] + indices[i + 1:]:\n",
    "            skalar = Ac[k][i]\n",
    "            for l in range(len(A)):\n",
    "                Ac[k][l] = Ac[k][l] - skalar * Ac[i][l]\n",
    "                Ic[k][l] = Ic[k][l] - skalar * Ic[i][l]\n",
    "    return np.round(Ic, 3)\n",
    "\n",
    "\n",
    "A = [[5, 4, 3, 2, 1],\n",
    "     [4, 3, 2, 1, 5],\n",
    "     [3, 2, 9, 5, 4],\n",
    "     [2, 1, 5, 4, 3],\n",
    "     [1, 2, 3, 4, 5]]\n",
    "I = [[1, 0, 0, 0, 0],\n",
    "     [0, 1, 0, 0, 0],\n",
    "     [0, 0, 1, 0, 0],\n",
    "     [0, 0, 0, 1, 0],\n",
    "     [0, 0, 0, 0, 1]]\n",
    "\n",
    "inverted_mat = invert_matrix(A, I)\n",
    "print_array(inverted_mat)\n"
   ]
  },
  {
   "cell_type": "code",
   "execution_count": null,
   "id": "1f72124f",
   "metadata": {},
   "outputs": [],
   "source": []
  }
 ],
 "metadata": {
  "kernelspec": {
   "display_name": "Python 3 (ipykernel)",
   "language": "python",
   "name": "python3"
  },
  "language_info": {
   "codemirror_mode": {
    "name": "ipython",
    "version": 3
   },
   "file_extension": ".py",
   "mimetype": "text/x-python",
   "name": "python",
   "nbconvert_exporter": "python",
   "pygments_lexer": "ipython3",
   "version": "3.9.13"
  }
 },
 "nbformat": 4,
 "nbformat_minor": 5
}
