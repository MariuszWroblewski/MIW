{
 "cells": [
  {
   "cell_type": "code",
   "execution_count": 1,
   "id": "9f7f3e95",
   "metadata": {},
   "outputs": [
    {
     "name": "stdout",
     "output_type": "stream",
     "text": [
      "[[1.]\n",
      " [1.]\n",
      " [1.]]\n"
     ]
    }
   ],
   "source": [
    "import numpy as np\n",
    "\n",
    "\n",
    "def resolve(A, B):\n",
    "    Ac = A.copy()\n",
    "    Bc = B.copy()\n",
    "    ind = list(range(len(A)))\n",
    "    for i in range(len(A)):\n",
    "        skala = 1.0 / Ac[i][i]\n",
    "        for j in range(len(A)):\n",
    "            Ac[i][j] *= skala\n",
    "        Bc[i][0] *= skala\n",
    "        for k in ind[0:i] + ind[i + 1:]:\n",
    "            skalar = Ac[k][i]\n",
    "            for l in range(len(A)):\n",
    "                Ac[k][l] = Ac[k][l] - skalar * Ac[i][l]\n",
    "            Bc[k][0] = Bc[k][0] - skalar * Bc[i][0]\n",
    "    return np.round(Bc, 3)\n",
    "\n",
    "\n",
    "A = [[5., 3., 1.],\n",
    "     [3., 9., 4.],\n",
    "     [1., 3., 5.]]\n",
    "B = [[9.0],\n",
    "     [16.0],\n",
    "     [9.0]]\n",
    "\n",
    "wynik = resolve(A, B)\n",
    "print(wynik)\n"
   ]
  },
  {
   "cell_type": "code",
   "execution_count": null,
   "id": "cb825b5e",
   "metadata": {},
   "outputs": [],
   "source": []
  }
 ],
 "metadata": {
  "kernelspec": {
   "display_name": "Python 3 (ipykernel)",
   "language": "python",
   "name": "python3"
  },
  "language_info": {
   "codemirror_mode": {
    "name": "ipython",
    "version": 3
   },
   "file_extension": ".py",
   "mimetype": "text/x-python",
   "name": "python",
   "nbconvert_exporter": "python",
   "pygments_lexer": "ipython3",
   "version": "3.9.13"
  }
 },
 "nbformat": 4,
 "nbformat_minor": 5
}
